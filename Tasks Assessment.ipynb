{
 "cells": [
  {
   "cell_type": "markdown",
   "metadata": {},
   "source": [
    "# <center>Tasks Assessment - Machine Learning and Statistics 20-21 52954</center>\n",
    "# <center>Author - Barry Clarke</center>\n",
    "# <center>Student Number: G00376293 [1]</center>\n",
    "\n",
    "[1] Markdown commands: https://github.com/adam-p/markdown-here/wiki/Markdown-Cheatsheet\n",
    "\n",
    "[2] Floating point arithmetic: https://docs.python.org/3.8/tutorial/floatingpoint.html\n",
    "\n",
    "[3] Decimal floating point arithmetic: https://docs.python.org/3.8/tutorial/stdlib2.html#decimal-floating-point-arithmetic"
   ]
  },
  {
   "cell_type": "markdown",
   "metadata": {},
   "source": [
    "***"
   ]
  },
  {
   "cell_type": "markdown",
   "metadata": {},
   "source": [
    "Solutions to the tasks assessment for the Machine Learning and Statistics module 20-21"
   ]
  },
  {
   "cell_type": "markdown",
   "metadata": {},
   "source": [
    "### Task 1. October 5th, 2020: \n",
    "Write a Python function called sqrt2 that calculates and prints to the screen the square root of 2 to 100 decimal places. Your code should not depend on any module from the standard library or otherwise. You should research the task first and include references and a description of your algorithm."
   ]
  },
  {
   "cell_type": "markdown",
   "metadata": {},
   "source": [
    "### Solution"
   ]
  },
  {
   "cell_type": "code",
   "execution_count": 1,
   "metadata": {},
   "outputs": [],
   "source": [
    "# Libraries required for this solution\n",
    "import numpy as np # Efficient numeric arrays\n",
    "import math # Module containing mathematical functions, including square root \n",
    "import matplotlib.pyplot as plt # Used to help create basci plots\n",
    "import decimal # Module that will allow expreesion of a number as a decimal rather than a float"
   ]
  },
  {
   "cell_type": "markdown",
   "metadata": {},
   "source": [
    "In python, there is a simple means of calculating the square root of a number, using the sqrt function contained in the math library in python. However, it is important to know that this calculation is only an approximation of the square root of a number, albeit a very accurate approximation for humans. This is highlighted below. To calculate the square root of 2, we can use the sqrt function contained in the math library"
   ]
  },
  {
   "cell_type": "code",
   "execution_count": 2,
   "metadata": {},
   "outputs": [
    {
     "data": {
      "text/plain": [
       "1.4142135623730951"
      ]
     },
     "execution_count": 2,
     "metadata": {},
     "output_type": "execute_result"
    }
   ],
   "source": [
    "math.sqrt(2)"
   ]
  },
  {
   "cell_type": "markdown",
   "metadata": {},
   "source": [
    "Using this in-built function yields the above number, with 16 decimal places. \"This is a floating point representation, or aproximation, of the true value of the binary approximation stored by the machine.\" [2] To explain this, we must first understand that floating point numbers are represented in a computer as binary (base 2) fractions, and that these binary fractions are actually an approximation of the actual number. For example, consider an irrational number, which is a number that never has an infinite number of decimal places with no repeating pattern. A computer must represent this in some way, so the binary representation of this will be an approximation of the actual number. However, us humans like to deal in decimal (base 10), and most decimal floating point cannot be exactly be exactly represented as binary fractions. As a result, the decimal number on our computer screen is actually an approximation of the binary floating point number, which in turn is an approximation of the actual number. These approximations cause error and this is something we should always be aware of in floating point arithmetic. Above, we use the sqrt() function contained in the math library. This result is an approximation of the actual number, due to the constraints explained above. This is why if we square the math.sqrt(2), we don't get exactly 2 as an answer, as shown below"
   ]
  },
  {
   "cell_type": "code",
   "execution_count": 3,
   "metadata": {},
   "outputs": [
    {
     "data": {
      "text/plain": [
       "2.0000000000000004"
      ]
     },
     "execution_count": 3,
     "metadata": {},
     "output_type": "execute_result"
    }
   ],
   "source": [
    "math.sqrt(2) * math.sqrt(2)"
   ]
  },
  {
   "cell_type": "markdown",
   "metadata": {},
   "source": [
    "This highlights that not all real numbers are computable because, for countable numbers to infinity, there will always be more real numbers. Think of it as considering two consecutive numbers, say 2 and 3. We can say there is a number between them, say 2.5. Again, there is a number between 2 and 2.5, say 2.25. Extending this to infinity, we can say that there is always an infinite amount of numbers between any two numbers. Therfore, computer numbers are countable, but not all numbers are computable.[2]\n",
    "[2] Lecture notes. Ian McLoughlin 2020"
   ]
  },
  {
   "cell_type": "markdown",
   "metadata": {},
   "source": [
    "The decimal module offers a Decimal datatype for decimal floating point arithmetic.[3] Compared to the built-in float implementation of binary floating point, using decimal is especially helpful for situations where rounding is required during calculation, or certain precision of the above approximations is required."
   ]
  },
  {
   "cell_type": "code",
   "execution_count": 4,
   "metadata": {},
   "outputs": [],
   "source": [
    "from decimal import *"
   ]
  },
  {
   "cell_type": "markdown",
   "metadata": {},
   "source": [
    "Using python, we can plot and view the sqrt function up to the value of 10, as below, where x is taken as 1000 points between 0 and 10, linearly spaced, and y is the square root of that number. Plotting these 1000 points yields the below chart."
   ]
  },
  {
   "cell_type": "code",
   "execution_count": 5,
   "metadata": {},
   "outputs": [],
   "source": [
    "x = np.linspace(0.0, 10.0, 1000)\n",
    "y = np.sqrt(x)"
   ]
  },
  {
   "cell_type": "code",
   "execution_count": 6,
   "metadata": {
    "scrolled": true
   },
   "outputs": [
    {
     "data": {
      "image/png": "[encoded data removed]",
      "text/plain": [
       "<Figure size 432x288 with 1 Axes>"
      ]
     },
     "metadata": {
      "needs_background": "light"
     },
     "output_type": "display_data"
    }
   ],
   "source": [
    "plt.plot(x,y)\n",
    "plt.show()"
   ]
  },
  {
   "cell_type": "markdown",
   "metadata": {},
   "source": [
    "The sqrt() function in the math library yields a figure of 1.414213562370951 for 2"
   ]
  },
  {
   "cell_type": "markdown",
   "metadata": {},
   "source": [
    "This task requests that we calculate the square root of 2 using our own algorithm and not that from the standard library. Perhaps the first method for approximating the square root of a number was the Babylonian Method, also known as Heron's Method, named after the Greek Mathmetician Heron of Alexandria in AD60. [2] This method is based on the idea that if z is an overestimate to the square root of a non-negative real number x then x/z will be an underestimate, or vice versa, and so the average of these two numbers may reasonably be expected to provide a better approximation than z. Expressed in mathematical terms, the square root $z$ of a number $x$ can be approximated using the following mathematics:\n",
    "\n",
    "$$ z_{next} = \\frac{\\frac{x}{z} + {z}}{2} $$\n",
    "\n",
    "Iterating this principle will converge on a more accurate result each time. \n",
    "\n",
    "[2] Wikipedia: Methods of computing square roots: https://en.wikipedia.org/wiki/Methods_of_computing_square_roots\n",
    "\n",
    "Using this equation, python code can be written for a function to calculate the square root of a given number, making use of a while loop, as shown below. [3]. For this task, we are asked to focus on the square root of 2.\n",
    "\n",
    "[3] w3resource: Python Math: Computing square roots using the Babylonian method: https://www.w3resource.com/python-exercises/math/python-math-exercise-18.php"
   ]
  },
  {
   "cell_type": "code",
   "execution_count": 7,
   "metadata": {},
   "outputs": [],
   "source": [
    "def sqrt2():\n",
    "    \"\"\"\n",
    "    A function to calculate the square root of the number 2 using the Babylonian Method\n",
    "    \"\"\"\n",
    "    with decimal.localcontext() as ctx:\n",
    "        ctx.prec = 100\n",
    "    # Make an initial estimate for the square root z\n",
    "        z = decimal.Decimal(2/2.0);\n",
    "    # Declare an initial value for z2, which is different to z\n",
    "        z2 = z + 1;\n",
    "    # Loop until z = z2. Initially starting 1 apart, the values of z and z2 in the while loop will converge towards each \n",
    "    # other\n",
    "        while (z != z2):\n",
    "        # Calculate a better estimate for z\n",
    "            n = decimal.Decimal(2/ z);\n",
    "            z2 = z;\n",
    "            z = decimal.Decimal((n + z)/2);\n",
    "    \n",
    "    # return the better estimate for z\n",
    "    # return decimal.Decimal(z);\n",
    "        return z;"
   ]
  },
  {
   "cell_type": "code",
   "execution_count": 8,
   "metadata": {},
   "outputs": [
    {
     "data": {
      "text/plain": [
       "Decimal('1.414213562373095048801688724209698078569671875376948073176679737990732478462107038850387534327641572')"
      ]
     },
     "execution_count": 8,
     "metadata": {},
     "output_type": "execute_result"
    }
   ],
   "source": [
    "sqrt2()"
   ]
  },
  {
   "cell_type": "code",
   "execution_count": 9,
   "metadata": {},
   "outputs": [],
   "source": [
    "def sqroot(x):\n",
    "    \"\"\"\n",
    "    A function to calculate the square root of the number 2 using the Babylonian Method\n",
    "    \"\"\"\n",
    "    #with decimal.localcontext() as ctx:\n",
    "    #    ctx.prec = 100\n",
    "    # Make an initial estimate for the square root z\n",
    "    z = 2/2.0;\n",
    "    # Declare an initial value for z2, which is different to z\n",
    "    z2 = z + 1;\n",
    "    # Loop until z = z2. Initially starting 1 apart, the values of z and z2 in the while loop will converge towards each \n",
    "    # other\n",
    "    while (z != z2):\n",
    "        # Calculate a better estimate for z\n",
    "        n = 2/ z;\n",
    "        z2 = z;\n",
    "        z = (n + z)/2;\n",
    "    \n",
    "    # return the better estimate for z\n",
    "    # return decimal.Decimal(z);\n",
    "    return z;"
   ]
  },
  {
   "cell_type": "code",
   "execution_count": 10,
   "metadata": {},
   "outputs": [
    {
     "name": "stdout",
     "output_type": "stream",
     "text": [
      "Local precision: 100\n",
      "1.4142135623730951454746218587388284504413604736328125\n",
      "1.4142135623730951\n",
      "1.414213562373095048801688724209698078569671875376948073176679737990732478462107038850387534327641572\n",
      "1.414213562373095\n"
     ]
    }
   ],
   "source": [
    "with decimal.localcontext() as c:\n",
    "    c.prec = 100\n",
    "    print('Local precision:', c.prec)\n",
    "    #print('3.14 / 3 =', (decimal.Decimal('3.14') / 3))\n",
    "    print(decimal.Decimal(math.sqrt(2)))\n",
    "    print(math.sqrt(2))\n",
    "    print(sqrt2())\n",
    "    print(sqroot(2))"
   ]
  },
  {
   "cell_type": "markdown",
   "metadata": {},
   "source": [
    "### Testing of the function\n",
    "We all know that multiplying the square root of a number by itself, we should get the number. Let's try with the above function"
   ]
  },
  {
   "cell_type": "code",
   "execution_count": 11,
   "metadata": {},
   "outputs": [
    {
     "data": {
      "text/plain": [
       "Decimal('2.000000000000000000000000000')"
      ]
     },
     "execution_count": 11,
     "metadata": {},
     "output_type": "execute_result"
    }
   ],
   "source": [
    "sqrt2() * sqrt2()"
   ]
  },
  {
   "cell_type": "markdown",
   "metadata": {},
   "source": [
    "Above is a quick verifictaion of the function. Let's now compare it to the value obtained by using the function contained in the python standard library"
   ]
  },
  {
   "cell_type": "code",
   "execution_count": 12,
   "metadata": {},
   "outputs": [
    {
     "data": {
      "text/plain": [
       "2.0000000000000004"
      ]
     },
     "execution_count": 12,
     "metadata": {},
     "output_type": "execute_result"
    }
   ],
   "source": [
    "math.sqrt(2) * math.sqrt(2)"
   ]
  },
  {
   "cell_type": "markdown",
   "metadata": {},
   "source": [
    "Check if the two results are the exact same"
   ]
  },
  {
   "cell_type": "code",
   "execution_count": 13,
   "metadata": {},
   "outputs": [
    {
     "data": {
      "text/plain": [
       "False"
      ]
     },
     "execution_count": 13,
     "metadata": {},
     "output_type": "execute_result"
    }
   ],
   "source": [
    "sqrt2() == math.sqrt(2)"
   ]
  },
  {
   "cell_type": "markdown",
   "metadata": {},
   "source": [
    "Although the two results look very close, they differ very slightly. We can see that the sqrt2() function yields a more accurate result that the in-built python math.sqrt(2), as shown when value is squared and compared to 2. "
   ]
  }
 ],
 "metadata": {
  "kernelspec": {
   "display_name": "Python 3",
   "language": "python",
   "name": "python3"
  },
  "language_info": {
   "codemirror_mode": {
    "name": "ipython",
    "version": 3
   },
   "file_extension": ".py",
   "mimetype": "text/x-python",
   "name": "python",
   "nbconvert_exporter": "python",
   "pygments_lexer": "ipython3",
   "version": "3.8.3"
  }
 },
 "nbformat": 4,
 "nbformat_minor": 4
}

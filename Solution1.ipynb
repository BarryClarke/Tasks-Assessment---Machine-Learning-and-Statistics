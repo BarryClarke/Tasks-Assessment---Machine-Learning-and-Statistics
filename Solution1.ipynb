{
 "cells": [
  {
   "cell_type": "markdown",
   "metadata": {},
   "source": [
    "# <center>20-21 52954 - Machine Learning and Statistics</center>\n",
    "# <center>Assessment 2020</center>\n",
    "***"
   ]
  },
  {
   "cell_type": "markdown",
   "metadata": {},
   "source": [
    "## Task 1. October 5th, 2020: \n",
    "Write a Python function called sqrt2 that calculates and prints to the screen the square root of 2 to 100 decimal places. Your code should not depend on any module from the standard library or otherwise. You should research the task first and include references and a description of your algorithm."
   ]
  },
  {
   "cell_type": "markdown",
   "metadata": {},
   "source": [
    "### Solution"
   ]
  },
  {
   "cell_type": "code",
   "execution_count": 1,
   "metadata": {},
   "outputs": [],
   "source": [
    "# Libraries required for this solution\n",
    "import numpy as np # Efficient numeric arrays\n",
    "import math # Module containing mathematical functions, including square root \n",
    "import matplotlib.pyplot as plt # Used to help create basci plots\n",
    "import decimal # Module that will allow expreesion of a number as a decimal rather than a float"
   ]
  },
  {
   "cell_type": "markdown",
   "metadata": {},
   "source": [
    "In python, there is a simple means of calculating the square root of a number, using the sqrt function contained in the math library in python. However, it is important to know that this calculation is only an approximation of the square root of a number, albeit a very accurate approximation for humans. This is highlighted below."
   ]
  },
  {
   "cell_type": "code",
   "execution_count": 2,
   "metadata": {},
   "outputs": [
    {
     "data": {
      "text/plain": [
       "1.4142135623730951"
      ]
     },
     "execution_count": 2,
     "metadata": {},
     "output_type": "execute_result"
    }
   ],
   "source": [
    "# To calculate the square root of 2, we can use the sqrt function contained in the math library\n",
    "math.sqrt(2)"
   ]
  },
  {
   "cell_type": "markdown",
   "metadata": {},
   "source": [
    "Extenuating this, we can plot and view the sqrt() function. Below, we will plot and view the sqrt function up to the value of 10, as below, where x is taken as 1000 points between 0 and 10, linearly spaced, and y is the square root of that number."
   ]
  },
  {
   "cell_type": "code",
   "execution_count": 3,
   "metadata": {},
   "outputs": [
    {
     "data": {
      "image/png": "[encoded data removed]",
      "text/plain": [
       "<Figure size 1080x576 with 1 Axes>"
      ]
     },
     "metadata": {
      "needs_background": "light"
     },
     "output_type": "display_data"
    }
   ],
   "source": [
    "# Create a plot of x vs sqrt(x) from 0 to 10 with 1000 intervals\n",
    "x = np.linspace(0.0, 10.0, 1000)\n",
    "y = np.sqrt(x)\n",
    "\n",
    "# Resize the output figure\n",
    "plt.rcParams['figure.figsize'] = (15,8)\n",
    "plt.title('Square root function', size=25)\n",
    "plt.xlabel('x', size=15)\n",
    "plt.ylabel('sqrt(x)', size=15)\n",
    "# Show grid lines\n",
    "plt.grid(b=True, which='major', color='grey', linestyle='-')\n",
    "\n",
    "plt.plot(x,y)\n",
    "plt.show()"
   ]
  },
  {
   "cell_type": "markdown",
   "metadata": {},
   "source": [
    "Using the in-built sqrt() function yields a value of 1.4142135623730951 for sqrt(2). \"This is a floating point representation, or aproximation, of the true value of the binary approximation stored by the machine.\" [2] To explain this, we must first understand that floating point numbers are represented in a computer as binary (base 2) fractions, and that these binary fractions are actually an approximation of the actual number. For example, consider an irrational number, which is a number that has an infinite number of decimal places with no repeating pattern. A computer must represent this in some way, so the binary representation of this will be an approximation of the actual number. However, us humans like to deal in decimal (base 10), and most decimal floating points cannot be exactly be exactly represented as binary fractions. As a result, the decimal number on our computer screen is actually an approximation of the binary floating point number, which in turn is an approximation of the actual number. These approximations are generally very accurate and not nociceable by the user, however they can cause error and this is something we should always be aware of in floating point arithmetic. Above, we use the sqrt() function contained in the math library. This result is an approximation of the actual number, due to the constraints explained above, a point which is proven by the below calculation.\\\n",
    "[2] Floating point arithmetic: https://docs.python.org/3.8/tutorial/floatingpoint.html"
   ]
  },
  {
   "cell_type": "code",
   "execution_count": 4,
   "metadata": {},
   "outputs": [
    {
     "data": {
      "text/plain": [
       "2.0000000000000004"
      ]
     },
     "execution_count": 4,
     "metadata": {},
     "output_type": "execute_result"
    }
   ],
   "source": [
    "# The square of math.sqrt(2) should be 2\n",
    "math.sqrt(2) * math.sqrt(2)"
   ]
  },
  {
   "cell_type": "markdown",
   "metadata": {},
   "source": [
    "This task requests that we calculate the square root of 2 using our own algorithm and not that from the standard library. Perhaps the first method for approximating the square root of a number was the Babylonian Method, also known as Heron's Method, named after the Greek Mathmetician Heron of Alexandria in AD60. [4] This method is based on the idea that if z is an overestimate to the square root of a non-negative real number x then x/z will be an underestimate, or vice versa, and so the average of these two numbers may reasonably be expected to provide a better approximation than z. Expressed in mathematical terms, the square root $z$ of a number $x$ can be approximated using the following mathematics:\n",
    "\n",
    "$$ z_{next} = \\frac{\\frac{x}{z} + {z}}{2} $$\n",
    "\n",
    "Iterating this principle will converge on a more accurate result each time.\\\n",
    "[4] Wikipedia: Methods of computing square roots: https://en.wikipedia.org/wiki/Methods_of_computing_square_roots\n",
    "\n",
    "Using this equation, python code can be written for a function to calculate the square root of a given number, making use of a while loop, as shown below. [5]. For this task, we are asked to focus on the square root of 2.\\\n",
    "[5] w3resource: Python Math: Computing square roots using the Babylonian method: https://www.w3resource.com/python-exercises/math/python-math-exercise-18.php"
   ]
  },
  {
   "cell_type": "markdown",
   "metadata": {},
   "source": [
    "As noted above, floating point arithmetic using the float datatype has limitations with accuracy. The decimal module offers a Decimal datatype for decimal floating point arithmetic.[3] Compared to the built-in float implementation of binary floating point, using decimal is especially helpful for situations where rounding is required during calculation, or certain precision of the above approximations is required. We will employ the decimal module for our algorithm\\\n",
    "[3] Decimal floating point arithmetic: https://docs.python.org/3.8/tutorial/stdlib2.html#decimal-floating-point-arithmetic"
   ]
  },
  {
   "cell_type": "code",
   "execution_count": 5,
   "metadata": {},
   "outputs": [],
   "source": [
    "def sqrt2():\n",
    "    \"\"\"\n",
    "    A function to calculate the square root of the number 2 using the Babylonian Method\n",
    "    \"\"\"\n",
    "   # Set the decimal place precision to 100\n",
    "    with decimal.localcontext() as ctx:\n",
    "        ctx.prec = 100\n",
    "    # Make an initial estimate for the square root z\n",
    "        z = decimal.Decimal(2/2.0);\n",
    "    # Declare an initial value for z2, which is different to z\n",
    "        z2 = z + 1;\n",
    "    # Loop until z = z2. Initially starting 1 apart, the values of z and z2 in the while loop will converge towards each \n",
    "    # other\n",
    "        while (z != z2):\n",
    "        # Calculate a better estimate for z\n",
    "            n = decimal.Decimal(2/ z);\n",
    "            z2 = z;\n",
    "            z = decimal.Decimal((n + z)/2);\n",
    "    \n",
    "    # return the better estimate for z\n",
    "        return z;"
   ]
  },
  {
   "cell_type": "code",
   "execution_count": 6,
   "metadata": {},
   "outputs": [
    {
     "name": "stdout",
     "output_type": "stream",
     "text": [
      "1.414213562373095048801688724209698078569671875376948073176679737990732478462107038850387534327641572\n"
     ]
    }
   ],
   "source": [
    "# Call the sqrt2() function\n",
    "print(sqrt2())"
   ]
  },
  {
   "cell_type": "markdown",
   "metadata": {},
   "source": [
    "### Testing of the function\n",
    "We all know that multiplying the square root of a number by itself, we should get the number. Let's try with the above function"
   ]
  },
  {
   "cell_type": "code",
   "execution_count": 7,
   "metadata": {},
   "outputs": [
    {
     "data": {
      "text/plain": [
       "Decimal('2.000000000000000000000000000')"
      ]
     },
     "execution_count": 7,
     "metadata": {},
     "output_type": "execute_result"
    }
   ],
   "source": [
    "sqrt2() * sqrt2()"
   ]
  },
  {
   "cell_type": "markdown",
   "metadata": {},
   "source": [
    "Above is a quick verifictaion of the function. Let's now compare it to the value obtained by using the function contained in the python standard library"
   ]
  },
  {
   "cell_type": "code",
   "execution_count": 8,
   "metadata": {},
   "outputs": [
    {
     "data": {
      "text/plain": [
       "2.0000000000000004"
      ]
     },
     "execution_count": 8,
     "metadata": {},
     "output_type": "execute_result"
    }
   ],
   "source": [
    "math.sqrt(2) * math.sqrt(2)"
   ]
  },
  {
   "cell_type": "markdown",
   "metadata": {},
   "source": [
    "Although the two results look very close, they differ very slightly. We can see that the sqrt2() function yields a more accurate result that the in-built python math.sqrt(2), as shown when value is squared and compared to 2. "
   ]
  },
  {
   "cell_type": "markdown",
   "metadata": {},
   "source": [
    "***"
   ]
  },
  {
   "cell_type": "markdown",
   "metadata": {},
   "source": [
    "## Task 2. November 2nd, 2020: \n",
    "The purpose of this task is to use scipy-stats to verify a result for the chi-squared value on a set of data. In addition to this, we are asked to calculate the associated p value."
   ]
  },
  {
   "cell_type": "markdown",
   "metadata": {},
   "source": [
    "### Solution\n",
    "### Explanation of chi-squared test\n",
    "\n",
    "The Chi-squared test for independence is a statistical hypothesis test. It is used to analyse whether two categorical variables are independent. Pearson's chi-squared test is used to determine whether there is a statistically significant difference between the expected frequencies and the observed frequencies in one or more categories of a contingency table.[1] To best explain this, consider the example given in the above referenced link:\\\n",
    "Suppose there is a city of 1,000,000 residents with four neighborhoods: A, B, C, and D. A random sample of 650 residents of the city is taken and their occupation is recorded as \"white collar\", \"blue collar\", or \"no collar\".\n",
    "\n",
    "||A|B|C|D|Total|\n",
    "|-|-|-|-|-|-|\n",
    "|White collar|90|60|104|95|349|\n",
    "|Blue collar|30|50|51|20|151|\n",
    "|No collar|30|40|45|35|150|\n",
    "|----------------|--|--|---|--|---|\n",
    "|Total|150|150|200|150|650|\n",
    "\n",
    "The null hypothesis is that each person's neighborhood of residence is independent of the person's occupational classification. Assuming the null hypothesis, the chi-squared test takes the cumulative totals of categories (number of people is each category, and overall totals). From these totals, it calculates expected frequencies within each category, based on the null hypothesis. Finally it compares these expected frequencies with the observed frequencies for each observed frequency.\n",
    "\n",
    "$$ x = \\frac{(expected - observed)^2}{expected} $$\n",
    "\n",
    "The chi-squared statistic is the sum of all x. \n",
    "\n",
    "So, for the above data, the expected frequency of \"white collar\" in Neighbourhood A would be:\n",
    "\n",
    "$$ 150\\times\\frac{349}{650} \\approx80.54 $$\n",
    "\n",
    "The observed frequency of \"white collar\" in Neighbourhood A is 90\n",
    "\n",
    "Using these values, we calculate x to be:\n",
    "\n",
    "$$ \\frac{(80.54 - 90)^2}{80.54} \\approx 1.1 $$\n",
    "\n",
    "The chi-squared statistic is calculated by suming the values obtained for x for all observed values in the table. Analysing the result, the lower the value calculated for this statistic, the closer the data is to the null hypothesis. If the test statistic is improbably large according to that chi-squared distribution, then one rejects the null hypothesis of independence."
   ]
  },
  {
   "cell_type": "markdown",
   "metadata": {},
   "source": [
    "### Using python to calculate chi-squared statistic and associated p value"
   ]
  },
  {
   "cell_type": "code",
   "execution_count": 9,
   "metadata": {},
   "outputs": [],
   "source": [
    "# Libraries required for this solution\n",
    "import numpy as np # Efficient numeric arrays\n",
    "from scipy.stats import chi2_contingency # scipy-stats contains probability distributions and statistical functions"
   ]
  },
  {
   "cell_type": "markdown",
   "metadata": {},
   "source": [
    "Create a numpy array of observed data"
   ]
  },
  {
   "cell_type": "code",
   "execution_count": 10,
   "metadata": {},
   "outputs": [
    {
     "data": {
      "text/plain": [
       "array([[ 90,  60, 104,  95],\n",
       "       [ 30,  50,  51,  20],\n",
       "       [ 30,  40,  45,  35]])"
      ]
     },
     "execution_count": 10,
     "metadata": {},
     "output_type": "execute_result"
    }
   ],
   "source": [
    "obs = np.array([[90, 60, 104, 95], [30, 50, 51, 20], [30, 40, 45, 35]])\n",
    "obs"
   ]
  },
  {
   "cell_type": "markdown",
   "metadata": {},
   "source": [
    "Using chi2_contingency function in scipy-stats, calculate the chi-squared statistic and associated p value for the above data [2], [3]"
   ]
  },
  {
   "cell_type": "code",
   "execution_count": 11,
   "metadata": {},
   "outputs": [
    {
     "data": {
      "text/plain": [
       "(24.5712028585826,\n",
       " 0.0004098425861096696,\n",
       " 6,\n",
       " array([[ 80.53846154,  80.53846154, 107.38461538,  80.53846154],\n",
       "        [ 34.84615385,  34.84615385,  46.46153846,  34.84615385],\n",
       "        [ 34.61538462,  34.61538462,  46.15384615,  34.61538462]]))"
      ]
     },
     "execution_count": 11,
     "metadata": {},
     "output_type": "execute_result"
    }
   ],
   "source": [
    "chi2_contingency(obs)"
   ]
  },
  {
   "cell_type": "markdown",
   "metadata": {},
   "source": [
    "This confirms the chi-squared statistic for this data to be 24.5712028585826"
   ]
  },
  {
   "cell_type": "markdown",
   "metadata": {},
   "source": [
    "### Interpreting the results\n",
    "\n",
    "The test statistic for this data is 24.5712028585826 \\\n",
    "The p value is 0.0004098425861096696 \\\n",
    "The degrees of freedom is 6\n",
    "\n",
    "As stated in the explanation above,the lower the value calculated for this statistic, the closer the data is to the null hypothesis. If the test statistic is improbably large according to that chi-squared distribution, then one rejects the null hypothesis of independence. In this case, with a test statistic of 24, one may be unsure whether to accept/reject the null hypothesis.\n",
    "\n",
    "Another means of confirming the null hypothesis is the p value. The p value is the probability of observing a sample statistic as extreme as the test statistic. [4] In this case, assuming the null hypothesis  that each person's neighborhood of residence is independent of the person's occupational classification, there is a 0.04% probability of getting a chi-squared statistic of > 24.57. This implies that the null hypothesis would be rejected on this data"
   ]
  },
  {
   "cell_type": "markdown",
   "metadata": {},
   "source": [
    "[1] https://en.wikipedia.org/wiki/Chi-squared_test \\\n",
    "[2] https://docs.scipy.org/doc/scipy/reference/generated/scipy.stats.chi2_contingency.html \\\n",
    "[3] https://medium.com/@nhan.tran/the-chi-square-statistic-p3-programming-with-python-87eb079f36af \\\n",
    "[4] https://stattrek.com/chi-square-test/independence.aspx#:~:text=The%20P%2Dvalue%20is%20the%20probability%20that%20a%20chi%2Dsquare,Interpret%20results."
   ]
  },
  {
   "cell_type": "markdown",
   "metadata": {},
   "source": [
    "***"
   ]
  },
  {
   "cell_type": "markdown",
   "metadata": {},
   "source": [
    "## Task 3. November 16th, 2020: \n",
    "Research these Excel standard deviation functions of STDEV.P and STDEV.S, noting the difference between them. Then use numpy to perform a simulation demonstrating that the STDEV.S calculation is a better estimate for the standard deviation of a population when performed on a sample. "
   ]
  },
  {
   "cell_type": "markdown",
   "metadata": {},
   "source": [
    "### Solution"
   ]
  },
  {
   "cell_type": "markdown",
   "metadata": {},
   "source": [
    "### 1. Standard Deviation"
   ]
  },
  {
   "cell_type": "markdown",
   "metadata": {},
   "source": [
    "Standard deviation is a measure of the amount of variation in a set of numbers. A low standard deviation indicates that the values tend to be close to the mean of the set, while a high standard deviation indicates that the values are spread out over a wider range.[1] Wikipedia:Standard Deviation https://en.wikipedia.org/wiki/Standard_deviation. Below shows a bell curve of how you would expect normal data to fall around an average point. \n",
    "![StandardDeviation](Images/StandardDeviation.PNG)\n",
    "(https://towardsdatascience.com/using-standard-deviation-in-python-77872c32ba9b)<br>\n",
    "For example, if you were to measure the height of the male population of adults between the age of 30 and 50 in a country, you would get a similar shape distribution of height around the mean/average height. The majority of people would have heights close around the average and the further you drift from the average height, the less number of people you would expect to measure. To emphasise this, you would expect to find the majority of the population between 5'7 and 6'2, and you would expect very few people at 4'8 or 6'7. Standard deviation calculates how far from the average of the dataset lie 68% of the population. If the standard deviation is a relatively small figure, then this signifies that the dataset is tight to the mean, wheras a large standard deviation indicates the dataset is more spread out."
   ]
  },
  {
   "cell_type": "markdown",
   "metadata": {},
   "source": [
    "### 2. STDEV.P vs STDEV.P"
   ]
  },
  {
   "cell_type": "markdown",
   "metadata": {},
   "source": [
    "In calculating the standard deviation of a population, depending on whether it is the standard deviation of a <b>sample</b> of the population or the standard deviation of the <b>entire</b> population that is being calculated, slightly different formulae are used.<br>\n",
    "If you are calculating the standard deviation of the entire population/dataset the following formula is used:\n",
    "$$ STDEV.P = \\sqrt{\\frac{1}{N}\\sum({x - \\bar{x})^2}} $$\n",
    "\n",
    "If you are calculating the standard deviation of a sammple of the-1 population/dataset the following formula is used:\n",
    "$$ STDEV.S = \\sqrt{\\frac{1}{N-1}\\sum({x - \\bar{x})^2}} $$\n",
    "\n",
    "As can be seen, the difference between the two equations is the denominator being N for the entire population, whereas it is N -1 for the sample of the population. When dealing with only samples of the population, it turns out that dividing by N-1 is a more accurate estimator of the standard deviation of the population than dividing N. This can be reasoned by arguing that the entire population incorporates all the data known, meaning that all extremities of data are known. Hence the mean, and the variance around this mean is decided. However, when using only a sample of the population, all extremities of the data will not be included. When calculating the mean of the sample, it is possible that the same mean as that calculated for the entire population is observed. But, the variance around the mean of the sample will always be smaller than what the variance of the full population is. Dividing by N for the sample represents this underestimation of the variance. To compensate for this, we divide by N - 1 for a sample - By dividing by a smaller number we are increasing the overall calculation for the standard deviation of the sample, but this is in fact a more accurat estimation than if we were to divide by N. We will run a simulation to confirm that using N-1 for a sample is better estimate for the standard deviation of the entire population than using N.<br>\n",
    "https://www.khanacademy.org/math/ap-statistics/summarizing-quantitative-data-ap/more-standard-deviation/v/another-simulation-giving-evidence-that-n-1-gives-us-an-unbiased-estimate-of-variance"
   ]
  },
  {
   "cell_type": "markdown",
   "metadata": {},
   "source": [
    "### 3. Simulation"
   ]
  },
  {
   "cell_type": "code",
   "execution_count": 12,
   "metadata": {},
   "outputs": [],
   "source": [
    "# import Libraries\n",
    "import numpy as np\n",
    "import pandas as pd\n",
    "import matplotlib.pyplot as plt"
   ]
  },
  {
   "cell_type": "markdown",
   "metadata": {},
   "source": [
    "Generate 100 random numbers to be used to represent a population"
   ]
  },
  {
   "cell_type": "code",
   "execution_count": 13,
   "metadata": {},
   "outputs": [
    {
     "data": {
      "text/html": [
       "<div>\n",
       "<style scoped>\n",
       "    .dataframe tbody tr th:only-of-type {\n",
       "        vertical-align: middle;\n",
       "    }\n",
       "\n",
       "    .dataframe tbody tr th {\n",
       "        vertical-align: top;\n",
       "    }\n",
       "\n",
       "    .dataframe thead th {\n",
       "        text-align: right;\n",
       "    }\n",
       "</style>\n",
       "<table border=\"1\" class=\"dataframe\">\n",
       "  <thead>\n",
       "    <tr style=\"text-align: right;\">\n",
       "      <th></th>\n",
       "      <th>A</th>\n",
       "    </tr>\n",
       "  </thead>\n",
       "  <tbody>\n",
       "    <tr>\n",
       "      <th>0</th>\n",
       "      <td>12.216120</td>\n",
       "    </tr>\n",
       "    <tr>\n",
       "      <th>1</th>\n",
       "      <td>10.347640</td>\n",
       "    </tr>\n",
       "    <tr>\n",
       "      <th>2</th>\n",
       "      <td>9.653930</td>\n",
       "    </tr>\n",
       "    <tr>\n",
       "      <th>3</th>\n",
       "      <td>11.840222</td>\n",
       "    </tr>\n",
       "    <tr>\n",
       "      <th>4</th>\n",
       "      <td>5.672883</td>\n",
       "    </tr>\n",
       "    <tr>\n",
       "      <th>...</th>\n",
       "      <td>...</td>\n",
       "    </tr>\n",
       "    <tr>\n",
       "      <th>95</th>\n",
       "      <td>8.726420</td>\n",
       "    </tr>\n",
       "    <tr>\n",
       "      <th>96</th>\n",
       "      <td>10.236611</td>\n",
       "    </tr>\n",
       "    <tr>\n",
       "      <th>97</th>\n",
       "      <td>13.279695</td>\n",
       "    </tr>\n",
       "    <tr>\n",
       "      <th>98</th>\n",
       "      <td>10.797979</td>\n",
       "    </tr>\n",
       "    <tr>\n",
       "      <th>99</th>\n",
       "      <td>10.351335</td>\n",
       "    </tr>\n",
       "  </tbody>\n",
       "</table>\n",
       "<p>100 rows × 1 columns</p>\n",
       "</div>"
      ],
      "text/plain": [
       "            A\n",
       "0   12.216120\n",
       "1   10.347640\n",
       "2    9.653930\n",
       "3   11.840222\n",
       "4    5.672883\n",
       "..        ...\n",
       "95   8.726420\n",
       "96  10.236611\n",
       "97  13.279695\n",
       "98  10.797979\n",
       "99  10.351335\n",
       "\n",
       "[100 rows x 1 columns]"
      ]
     },
     "execution_count": 13,
     "metadata": {},
     "output_type": "execute_result"
    }
   ],
   "source": [
    "# Create a list of 100 numbers of normal random distribution around the number 10\n",
    "# pandas.DataFrame is a two-dimensional tabular data structure ie Rows and Columns\n",
    "df = pd.DataFrame(np.random.normal(10, 2, 100), columns=list('A'))\n",
    "df"
   ]
  },
  {
   "cell_type": "markdown",
   "metadata": {},
   "source": [
    "Graphically show what these randon numbers look like on a bar chart"
   ]
  },
  {
   "cell_type": "code",
   "execution_count": 14,
   "metadata": {},
   "outputs": [
    {
     "data": {
      "image/png": "[encoded data removed]",
      "text/plain": [
       "<Figure size 1008x288 with 1 Axes>"
      ]
     },
     "metadata": {
      "needs_background": "light"
     },
     "output_type": "display_data"
    }
   ],
   "source": [
    "# Adjust the output plot sizes to be full page width\n",
    "plt.rcParams['figure.figsize'] = (14,4)\n",
    "# Plot a bar chart displaying each f the random numbers generated\n",
    "ax = df.plot(kind='bar')\n",
    "# Adding plot titles and axis labels, with font size adjustments\n",
    "plt.title('Plot of 100 numbers randomly generated with normal distribution around 10 with variance of 2', size=15)\n",
    "plt.xlabel('Number', size=15)\n",
    "plt.ylabel('Value', size=15)\n",
    "# Adjust the x-axis ticks to only display every 10th tick label. \n",
    "# https://stackoverflow.com/questions/56095446/pandas-plot-bar-show-every-nth-xlabel\n",
    "for i, t in enumerate(ax.get_xticklabels()):\n",
    "    if (i % 10) != 0:\n",
    "      t.set_visible(False)"
   ]
  },
  {
   "cell_type": "markdown",
   "metadata": {},
   "source": [
    "As can be seen, these random numbers vary around the number 10 according to a normal distribution and a variance of 2. The Standard Deviation of this population is calculated below, using the STDEV.P equation above"
   ]
  },
  {
   "cell_type": "code",
   "execution_count": 15,
   "metadata": {},
   "outputs": [
    {
     "data": {
      "text/plain": [
       "1.8021087796469903"
      ]
     },
     "execution_count": 15,
     "metadata": {},
     "output_type": "execute_result"
    }
   ],
   "source": [
    "# Select colum A from the dataframe, containing the 100 randomly geerated numbers\n",
    "x = df['A']\n",
    "# Calculate STDEV.P of the entire population of x, using the STDEV.P equation above\n",
    "a = np.sqrt(np.sum((x - np.mean(x))**2)/(len(x)))\n",
    "a"
   ]
  },
  {
   "cell_type": "markdown",
   "metadata": {},
   "source": [
    "Now, we will run a simulation to pick 1000 different samples of different sizes from the above population, calculate the sttandard deviation of the sample using both STDEV.S and STDEV.P equations, and calculate the mean of each of the results over the 1000 iterations. We will compare the accuracy of each with the result we obtained above for the standard deviation of the entire population above (ie a) "
   ]
  },
  {
   "cell_type": "code",
   "execution_count": 16,
   "metadata": {},
   "outputs": [
    {
     "data": {
      "image/png": "[encoded data removed]",
      "text/plain": [
       "<Figure size 1008x288 with 1 Axes>"
      ]
     },
     "metadata": {
      "needs_background": "light"
     },
     "output_type": "display_data"
    },
    {
     "name": "stdout",
     "output_type": "stream",
     "text": [
      "Std Dev of entire Population is: 1.8021087796469903\n",
      "The estimated Std Dev of the population, using STDEV.S of 1000 samples within the Population is: 1.794429940970744\n",
      "The estimated Std Dev of the population, using STDEV.P of 1000 samples within the Population is 1.7885411484666864\n",
      "Accuracy of STDEV.S of a sample:  0.007678838676246302\n",
      "Accuracy of STDEV.p of a sample:  0.013567631180303907\n",
      "STDEV.S is a more accuratete estimation of Std Dev of population than STDEV.P\n"
     ]
    }
   ],
   "source": [
    "# Initialise b and c used below\n",
    "b = 0\n",
    "c = 0\n",
    "index = []\n",
    "STDEV = []\n",
    "STDEVS = []\n",
    "STDEVP = []\n",
    "\n",
    "for i in range(1,1000):\n",
    "    # Select a random integer between 2 and 100. This will consitiute the size of the sample\n",
    "    rand = np.random.randint(2, 1000)\n",
    "    # Take a random sample of size \"rand\" from the population.\n",
    "    # https://docs.scipy.org/doc//numpy-1.10.4/reference/generated/numpy.random.choice.html\n",
    "    y = np.random.choice(x, rand)\n",
    "    # Calculate STDEV.S of this sample\n",
    "    b = b + np.sqrt(np.sum((y - np.mean(y))**2)/(len(y)-1))\n",
    "    # Calculate the total of STDEV.S so far calculated\n",
    "    meanb = b/i\n",
    "    #print(meanb)\n",
    "    # Calculate STDEV.P of this sample\n",
    "    c = c + np.sqrt(np.sum((y - np.mean(y))**2)/(len(y)))\n",
    "    # Calculate the total of STDEV.S so far calculated\n",
    "    meanc = c/i\n",
    "    #print(meanb, meanc)\n",
    "    index.append(i)\n",
    "    STDEV.append(a)\n",
    "    STDEVS.append(meanb)\n",
    "    STDEVP.append(meanc)\n",
    "fig = plt.figure()\n",
    "ax=fig.add_axes([0,0,1,1])\n",
    "ax.scatter(index,STDEV, color='b')\n",
    "#ax = fig.add_subplot(132)\n",
    "ax.scatter(index,STDEVS, color='r')\n",
    "#ax = fig.add_subplot(133)\n",
    "ax.scatter(index,STDEVP,color='g')\n",
    "plt.show()\n",
    "\n",
    "\n",
    "# Print the Standard Deviation of the entire population\n",
    "print(\"Std Dev of entire Population is:\", a) \n",
    "# Print the mean of the STDEV_S calculated over the 100 simulation\n",
    "print(\"The estimated Std Dev of the population, using STDEV.S of 1000 samples within the Population is:\",meanb)\n",
    "# Print the mean of the STDEV_P calculated over the 100 simulation\n",
    "print(\"The estimated Std Dev of the population, using STDEV.P of 1000 samples within the Population is\", meanc)\n",
    "# Print True/False that STDEV.S of the samples is closer to the Standard Deviation of the population than the STDEV.P\n",
    "print(\"Accuracy of STDEV.S of a sample: \", abs(a - meanb))\n",
    "print(\"Accuracy of STDEV.p of a sample: \", abs(a - meanc))      \n",
    "if(abs(a - meanb) < abs(a - meanc)):\n",
    "    print(\"STDEV.S is a more accuratete estimation of Std Dev of population than STDEV.P\")\n",
    "else:\n",
    "    print(\"STDEV.S is not a more accuratete estimation of Std Dev of population than STDEV.P\")"
   ]
  },
  {
   "cell_type": "markdown",
   "metadata": {},
   "source": [
    "***"
   ]
  },
  {
   "cell_type": "markdown",
   "metadata": {},
   "source": [
    "## Task 4 - November 30th 2020\n",
    "\n",
    "Use scikit-learn to apply k-means clustering to Fisher’s famous Iris data set. Explain in a Markdown cell how your code works and how accurate it might be, and then explain how your model could be used to make predictions of species of iris."
   ]
  },
  {
   "cell_type": "markdown",
   "metadata": {},
   "source": [
    "## Solution"
   ]
  },
  {
   "cell_type": "code",
   "execution_count": null,
   "metadata": {},
   "outputs": [],
   "source": []
  }
 ],
 "metadata": {
  "kernelspec": {
   "display_name": "Python 3",
   "language": "python",
   "name": "python3"
  },
  "language_info": {
   "codemirror_mode": {
    "name": "ipython",
    "version": 3
   },
   "file_extension": ".py",
   "mimetype": "text/x-python",
   "name": "python",
   "nbconvert_exporter": "python",
   "pygments_lexer": "ipython3",
   "version": "3.8.5"
  }
 },
 "nbformat": 4,
 "nbformat_minor": 4
}

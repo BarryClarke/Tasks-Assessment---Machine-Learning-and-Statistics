{
 "cells": [
  {
   "cell_type": "markdown",
   "metadata": {},
   "source": [
    "### Task 3. November 16th, 2020: \n",
    "Research these Excel standard deviation functions of STDEV.P and STDEV.S, noting the difference between them. Then use numpy to perform a simulation demonstrating that the STDEV.S calculation is a better estimate for the standard deviation of a population when performed on a sample. "
   ]
  },
  {
   "cell_type": "markdown",
   "metadata": {},
   "source": [
    "### Solution"
   ]
  },
  {
   "cell_type": "markdown",
   "metadata": {},
   "source": [
    "### 1. Standard Deviation"
   ]
  },
  {
   "cell_type": "markdown",
   "metadata": {},
   "source": [
    "Standard deviation is a measure of the amount of variation in a set of numbers. A low standard deviation indicates that the values tend to be close to the mean of the set, while a high standard deviation indicates that the values are spread out over a wider range.[1] Wikipedia:Standard Deviation https://en.wikipedia.org/wiki/Standard_deviation. Below shows a bell curve of how you would expect normal data to fall around an average point. \n",
    "![StandardDeviation](Images/StandardDeviation.PNG)\n",
    "(https://towardsdatascience.com/using-standard-deviation-in-python-77872c32ba9b)<br>\n",
    "For example, if you were to measure the height of the male population of adults between the age of 30 and 50 in a country, you would get a similar shape distribution of height around the mean/average height. The majority of people would have heights close around the average and the further you drift from the average height, the less number of people you would expect to measure. To emphasise this, you would expect to find the majority of the population between 5'7 and 6'2, and you would expect very few people at 4'8 or 6'7. Standard deviation calculates how far from the average of the dataset lie 68% of the population. If the standard deviation is a relatively small figure, then this signifies that the dataset is tight to the mean, wheras a large standard deviation indicates the dataset is more spread out."
   ]
  },
  {
   "cell_type": "markdown",
   "metadata": {},
   "source": [
    "### 2. STDEV.P vs STDEV.P"
   ]
  },
  {
   "cell_type": "markdown",
   "metadata": {},
   "source": [
    "In calculating the standard deviation of a population, depending on whether it is the standard deviation of a <b>sample</b> of the population or the standard deviation of the <b>entire</b> population that is being calculated, slightly different formulae are used.<br>\n",
    "If you are calculating the standard deviation of the entire population/dataset the following formula is used:\n",
    "$$ STDEV.P = \\sqrt{\\frac{1}{N}\\sum({x - \\bar{x})^2}} $$\n",
    "\n",
    "If you are calculating the standard deviation of a sammple of the-1 population/dataset the following formula is used:\n",
    "$$ STDEV.S = \\sqrt{\\frac{1}{N-1}\\sum({x - \\bar{x})^2}} $$\n",
    "\n",
    "As can be seen, the difference between the two equations is the denominator being N for the entire population, whereas it is N -1 for the sample of the population. When dealing with only samples of the population, it turns out that dividing by N-1 is a more accurate estimator of the standard deviation of the population than dividing N. This can be reasoned by arguing that the entire population incorporates all the data known, meaning that all extremities of data are known. Hence the mean, and the variance around this mean is decided. However, when using only a sample of the population, all extremities of the data will not be included. When calculating the mean of the sample, it is possible that the same mean as that calculated for the entire population is observed. But, the variance around the mean of the sample will always be smaller than what the variance of the full population is. Dividing by N for the sample represents this underestimation of the variance. To compensate for this, we divide by N - 1 for a sample - By dividing by a smaller number we are increasing the overall calculation for the standard deviation of the sample, but this is in fact a more accurat estimation than if we were to divide by N. We will run a simulation to confirm that using N-1 for a sample is better estimate for the standard deviation of the entire population than using N.<br>\n",
    "https://www.khanacademy.org/math/ap-statistics/summarizing-quantitative-data-ap/more-standard-deviation/v/another-simulation-giving-evidence-that-n-1-gives-us-an-unbiased-estimate-of-variance"
   ]
  },
  {
   "cell_type": "markdown",
   "metadata": {},
   "source": [
    "### 3. Simulation"
   ]
  },
  {
   "cell_type": "code",
   "execution_count": 1,
   "metadata": {},
   "outputs": [],
   "source": [
    "# import Libraries\n",
    "import numpy as np\n",
    "import pandas as pd\n",
    "import matplotlib.pyplot as plt"
   ]
  },
  {
   "cell_type": "markdown",
   "metadata": {},
   "source": [
    "Generate 100 random numbers to be used to represent a population"
   ]
  },
  {
   "cell_type": "code",
   "execution_count": 2,
   "metadata": {},
   "outputs": [
    {
     "data": {
      "text/html": [
       "<div>\n",
       "<style scoped>\n",
       "    .dataframe tbody tr th:only-of-type {\n",
       "        vertical-align: middle;\n",
       "    }\n",
       "\n",
       "    .dataframe tbody tr th {\n",
       "        vertical-align: top;\n",
       "    }\n",
       "\n",
       "    .dataframe thead th {\n",
       "        text-align: right;\n",
       "    }\n",
       "</style>\n",
       "<table border=\"1\" class=\"dataframe\">\n",
       "  <thead>\n",
       "    <tr style=\"text-align: right;\">\n",
       "      <th></th>\n",
       "      <th>A</th>\n",
       "    </tr>\n",
       "  </thead>\n",
       "  <tbody>\n",
       "    <tr>\n",
       "      <th>0</th>\n",
       "      <td>12.400688</td>\n",
       "    </tr>\n",
       "    <tr>\n",
       "      <th>1</th>\n",
       "      <td>11.157671</td>\n",
       "    </tr>\n",
       "    <tr>\n",
       "      <th>2</th>\n",
       "      <td>9.489007</td>\n",
       "    </tr>\n",
       "    <tr>\n",
       "      <th>3</th>\n",
       "      <td>11.407570</td>\n",
       "    </tr>\n",
       "    <tr>\n",
       "      <th>4</th>\n",
       "      <td>11.004988</td>\n",
       "    </tr>\n",
       "    <tr>\n",
       "      <th>...</th>\n",
       "      <td>...</td>\n",
       "    </tr>\n",
       "    <tr>\n",
       "      <th>95</th>\n",
       "      <td>10.234059</td>\n",
       "    </tr>\n",
       "    <tr>\n",
       "      <th>96</th>\n",
       "      <td>11.238304</td>\n",
       "    </tr>\n",
       "    <tr>\n",
       "      <th>97</th>\n",
       "      <td>9.022329</td>\n",
       "    </tr>\n",
       "    <tr>\n",
       "      <th>98</th>\n",
       "      <td>11.778694</td>\n",
       "    </tr>\n",
       "    <tr>\n",
       "      <th>99</th>\n",
       "      <td>12.620975</td>\n",
       "    </tr>\n",
       "  </tbody>\n",
       "</table>\n",
       "<p>100 rows × 1 columns</p>\n",
       "</div>"
      ],
      "text/plain": [
       "            A\n",
       "0   12.400688\n",
       "1   11.157671\n",
       "2    9.489007\n",
       "3   11.407570\n",
       "4   11.004988\n",
       "..        ...\n",
       "95  10.234059\n",
       "96  11.238304\n",
       "97   9.022329\n",
       "98  11.778694\n",
       "99  12.620975\n",
       "\n",
       "[100 rows x 1 columns]"
      ]
     },
     "execution_count": 2,
     "metadata": {},
     "output_type": "execute_result"
    }
   ],
   "source": [
    "# Create a list of 100 numbers of normal random distribution around the number 10\n",
    "# pandas.DataFrame is a two-dimensional tabular data structure ie Rows and Columns\n",
    "df = pd.DataFrame(np.random.normal(10, 2, 100), columns=list('A'))\n",
    "df"
   ]
  },
  {
   "cell_type": "markdown",
   "metadata": {},
   "source": [
    "Graphically show what these randon numbers look like on a bar chart "
   ]
  },
  {
   "cell_type": "code",
   "execution_count": 3,
   "metadata": {
    "scrolled": false
   },
   "outputs": [
    {
     "data": {
      "image/png": "[encoded data removed]",
      "text/plain": [
       "<Figure size 1008x288 with 1 Axes>"
      ]
     },
     "metadata": {
      "needs_background": "light"
     },
     "output_type": "display_data"
    }
   ],
   "source": [
    "# Adjust the output plot sizes to be full page width\n",
    "plt.rcParams['figure.figsize'] = (14,4)\n",
    "# Plot a bar chart displaying each f the random numbers generated\n",
    "ax = df.plot(kind='bar')\n",
    "# Adding plot titles and axis labels, with font size adjustments\n",
    "plt.title('Plot of 100 numbers randomly generated with normal distribution around 10 with variance of 2', size=15)\n",
    "plt.xlabel('Number', size=15)\n",
    "plt.ylabel('Value', size=15)\n",
    "# Adjust the x-axis ticks to only display every 10th tick label. \n",
    "# https://stackoverflow.com/questions/56095446/pandas-plot-bar-show-every-nth-xlabel\n",
    "for i, t in enumerate(ax.get_xticklabels()):\n",
    "    if (i % 10) != 0:\n",
    "      t.set_visible(False)"
   ]
  },
  {
   "cell_type": "markdown",
   "metadata": {},
   "source": [
    "As can be seen, these random numbers vary around the number 10 according to a normal distribution and a variance of 2. The Standard Deviation of this population is calculated below, using the STDEV.P equation above"
   ]
  },
  {
   "cell_type": "code",
   "execution_count": 4,
   "metadata": {},
   "outputs": [
    {
     "data": {
      "text/plain": [
       "1.7170440721098648"
      ]
     },
     "execution_count": 4,
     "metadata": {},
     "output_type": "execute_result"
    }
   ],
   "source": [
    "# Select colum A from the dataframe, containing the 100 randomly geerated numbers\n",
    "x = df['A']\n",
    "# Calculate STDEV.P of the entire population of x, using the STDEV.P equation above\n",
    "a = np.sqrt(np.sum((x - np.mean(x))**2)/(len(x)))\n",
    "a"
   ]
  },
  {
   "cell_type": "markdown",
   "metadata": {},
   "source": [
    "Now, we will run a simulation to pick 1000 different samples of different sizes from the above population, calculate the sttandard deviation of the sample using both STDEV.S and STDEV.P equations, and calculate the mean of each of the results over the 1000 iterations. We will compare the accuracy of each with the result we obtained above for the standard deviation of the entire population above (ie a) "
   ]
  },
  {
   "cell_type": "code",
   "execution_count": 70,
   "metadata": {},
   "outputs": [
    {
     "data": {
      "image/png": "[encoded data removed]",
      "text/plain": [
       "<Figure size 1008x288 with 1 Axes>"
      ]
     },
     "metadata": {},
     "output_type": "display_data"
    },
    {
     "name": "stdout",
     "output_type": "stream",
     "text": [
      "Std Dev of entire Population is: 1.7170440721098648\n",
      "The estimated Std Dev of the population, using STDEV.S of 1000 samples within the Population is: 1.720262104823262\n",
      "The estimated Std Dev of the population, using STDEV.P of 1000 samples within the Population is 1.712776196103822\n",
      "Accuracy of STDEV.S of a sample:  0.0032180327133972675\n",
      "Accuracy of STDEV.p of a sample:  0.004267876006042837\n",
      "STDEV.S is a more accuratete estimation of Std Dev of population than STDEV.P\n"
     ]
    }
   ],
   "source": [
    "# Initialise b and c used below\n",
    "b = 0\n",
    "c = 0\n",
    "index = []\n",
    "STDEV = []\n",
    "STDEVS = []\n",
    "STDEVP = []\n",
    "\n",
    "for i in range(1,1000):\n",
    "    # Select a random integer between 2 and 100. This will consitiute the size of the sample\n",
    "    rand = np.random.randint(2, 1000)\n",
    "    # Take a random sample of size \"rand\" from the population.\n",
    "    # https://docs.scipy.org/doc//numpy-1.10.4/reference/generated/numpy.random.choice.html\n",
    "    y = np.random.choice(x, rand)\n",
    "    # Calculate STDEV.S of this sample\n",
    "    b = b + np.sqrt(np.sum((y - np.mean(y))**2)/(len(y)-1))\n",
    "    # Calculate the total of STDEV.S so far calculated\n",
    "    meanb = b/i\n",
    "    #print(meanb)\n",
    "    # Calculate STDEV.P of this sample\n",
    "    c = c + np.sqrt(np.sum((y - np.mean(y))**2)/(len(y)))\n",
    "    # Calculate the total of STDEV.S so far calculated\n",
    "    meanc = c/i\n",
    "    #print(meanb, meanc)\n",
    "    index.append(i)\n",
    "    STDEV.append(a)\n",
    "    STDEVS.append(meanb)\n",
    "    STDEVP.append(meanc)\n",
    "fig = plt.figure()\n",
    "ax=fig.add_axes([0,0,1,1])\n",
    "ax.scatter(index,STDEV, color='b')\n",
    "#ax = fig.add_subplot(132)\n",
    "ax.scatter(index,STDEVS, color='r')\n",
    "#ax = fig.add_subplot(133)\n",
    "ax.scatter(index,STDEVP,color='g')\n",
    "plt.show()\n",
    "\n",
    "\n",
    "# Print the Standard Deviation of the entire population\n",
    "print(\"Std Dev of entire Population is:\", a) \n",
    "# Print the mean of the STDEV_S calculated over the 100 simulation\n",
    "print(\"The estimated Std Dev of the population, using STDEV.S of 1000 samples within the Population is:\",meanb)\n",
    "# Print the mean of the STDEV_P calculated over the 100 simulation\n",
    "print(\"The estimated Std Dev of the population, using STDEV.P of 1000 samples within the Population is\", meanc)\n",
    "# Print True/False that STDEV.S of the samples is closer to the Standard Deviation of the population than the STDEV.P\n",
    "print(\"Accuracy of STDEV.S of a sample: \", abs(a - meanb))\n",
    "print(\"Accuracy of STDEV.p of a sample: \", abs(a - meanc))      \n",
    "if(abs(a - meanb) < abs(a - meanc)):\n",
    "    print(\"STDEV.S is a more accuratete estimation of Std Dev of population than STDEV.P\")\n",
    "else:\n",
    "    print(\"STDEV.S is not a more accuratete estimation of Std Dev of population than STDEV.P\")"
   ]
  },
  {
   "cell_type": "code",
   "execution_count": null,
   "metadata": {},
   "outputs": [],
   "source": []
  }
 ],
 "metadata": {
  "kernelspec": {
   "display_name": "Python 3",
   "language": "python",
   "name": "python3"
  },
  "language_info": {
   "codemirror_mode": {
    "name": "ipython",
    "version": 3
   },
   "file_extension": ".py",
   "mimetype": "text/x-python",
   "name": "python",
   "nbconvert_exporter": "python",
   "pygments_lexer": "ipython3",
   "version": "3.8.3"
  }
 },
 "nbformat": 4,
 "nbformat_minor": 4
}

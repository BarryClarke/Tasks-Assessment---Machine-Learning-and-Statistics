{
 "cells": [
  {
   "cell_type": "markdown",
   "metadata": {},
   "source": [
    "### Task 3. November 16th, 2020: \n",
    "Research these Excel standard deviation functions of STDEV.P and STDEV.S, noting the difference between them. Then use numpy to perform a simulation demonstrating that the STDEV.S calculation is a better estimate for the standard deviation of a population when performed on a sample. "
   ]
  },
  {
   "cell_type": "markdown",
   "metadata": {},
   "source": [
    "### Solution"
   ]
  },
  {
   "cell_type": "markdown",
   "metadata": {},
   "source": [
    "Standard deviation is a measure of the amount of variation in a set of numbers. A low standard deviation indicates that the values tend to be close to the mean of the set, while a high standard deviation indicates that the values are spread out over a wider range.[1] Wikipedia:Standard Deviation https://en.wikipedia.org/wiki/Standard_deviation. Below shows a bell curve of how you would expect normal data to fall around an average point. \n",
    "![StandardDeviation](Images/StandardDeviation.PNG)\n",
    "(https://towardsdatascience.com/using-standard-deviation-in-python-77872c32ba9b)\n",
    "For example, if you were to measure the male population of adults between the age of 30 and 50 in a country students, you would get such with a similar shape, where around the mean/average height would have the highest number of people and the further you drift from the average the less number of people you would expect to measure. To emphasise this, you would expect to find the majority of the population between 5'7 and 6'2, and you would expect very few people at 4'8 or 6'7. Standard deviation calculates how far from the average of the dataset lie 68% of the population. If the is a relatively small figure, then this signifies that the dataset is tight to the mean, wheras a large standard deviation indicates the dataset is more spread out."
   ]
  },
  {
   "cell_type": "markdown",
   "metadata": {},
   "source": [
    "In calculating the standard deviation of a population, excle uses two different possible calculations, depending on whether it is the standard deviation of a <b>sample</b> of the population or the standard deviation of the <b>entire</b> population that is being calculated. \n",
    "If you are calculating the standard deviation of the entire population/dataset the following formula is used:\n",
    "$$ STDEV.P = \\sqrt{\\frac{1}{N}\\sum({x - \\bar{x})^2}} $$\n",
    "\n",
    "If you are calculating the standard deviation of a sammple of the-1 population/dataset the following formula is used:\n",
    "$$ STDEV.S = \\sqrt{\\frac{1}{N-1}\\sum({x - \\bar{x})^2}} $$\n"
   ]
  },
  {
   "cell_type": "code",
   "execution_count": 1,
   "metadata": {},
   "outputs": [
    {
     "data": {
      "text/plain": [
       "array([ 9.95696151,  9.22587619,  9.84538449, 11.07953304,  7.77421325,\n",
       "        7.40471212, 10.47458468,  7.17780555,  9.5740912 ,  8.24275866,\n",
       "       10.87259929,  6.5855951 , 10.72091397, 14.51707235, 14.01462712,\n",
       "       11.35020208, 14.81165452, 10.57898073,  9.94770938, 13.99698028,\n",
       "       10.0300999 ,  9.9209332 ,  9.72338647,  9.89471072,  8.14472442,\n",
       "        8.47175695,  7.67608252,  9.86189762, 11.90414238,  5.75073504,\n",
       "       11.0528432 ,  9.38058309,  8.45821315, 10.10041123, 11.76588355,\n",
       "        8.65256255, 10.10272893,  9.33016617, 11.68257123, 10.69174863,\n",
       "       12.69426979, 10.92971787,  8.71704129,  8.18678847, 15.42238663,\n",
       "        9.82149314, 13.10686164, 13.84888557,  9.63247342, 10.97206248,\n",
       "       10.77346323, 10.08314111,  8.16705472,  8.61831582, 10.11629397,\n",
       "       10.19740449,  7.43173854,  6.54505877,  7.43636386, 11.08902138,\n",
       "       10.24394246,  6.40475343,  8.82156126,  9.6534003 , 12.6962477 ,\n",
       "        9.27539714,  7.46727836, 10.85822911, 11.11377471, 10.50842412,\n",
       "       11.94679119, 13.2543829 , 10.03304367,  8.46494729, 10.79594764,\n",
       "       10.63498026,  9.01834796, 14.2487623 ,  8.75786726,  9.65697193,\n",
       "        8.3936344 , 11.58968381,  9.7971995 , 10.54431202,  8.45490634,\n",
       "       11.19964039, 10.72580805, 10.1898378 , 10.99348668,  9.81435368,\n",
       "        6.64327909,  7.15610452, 10.14924479, 12.53051498, 10.25407213,\n",
       "        9.49549187, 10.83042457, 11.50698989, 12.76250937,  9.66257205])"
      ]
     },
     "execution_count": 1,
     "metadata": {},
     "output_type": "execute_result"
    }
   ],
   "source": [
    "# import Libraries\n",
    "import numpy as np\n",
    "import pandas as pd\n",
    "import matplotlib.pyplot as plt\n",
    "import statistics as st\n",
    "\n",
    "# Create a list of 100 numbers of normal random distribution around the number 10\n",
    "x = np.random.normal(10, 2, 100)\n",
    "x"
   ]
  },
  {
   "cell_type": "code",
   "execution_count": 2,
   "metadata": {},
   "outputs": [
    {
     "data": {
      "text/plain": [
       "1.9424800163477083"
      ]
     },
     "execution_count": 2,
     "metadata": {},
     "output_type": "execute_result"
    }
   ],
   "source": [
    "# Calculate STDEV.P of the entire population of x\n",
    "a = np.sqrt(np.sum((x - np.mean(x))**2)/(len(x)))\n",
    "a"
   ]
  },
  {
   "cell_type": "code",
   "execution_count": 3,
   "metadata": {},
   "outputs": [
    {
     "data": {
      "text/plain": [
       "array([ 9.95696151,  9.22587619,  9.84538449, 11.07953304,  7.77421325,\n",
       "        7.40471212, 10.47458468,  7.17780555,  9.5740912 ,  8.24275866,\n",
       "       10.87259929,  6.5855951 , 10.72091397, 14.51707235, 14.01462712,\n",
       "       11.35020208, 14.81165452, 10.57898073,  9.94770938, 13.99698028])"
      ]
     },
     "execution_count": 3,
     "metadata": {},
     "output_type": "execute_result"
    }
   ],
   "source": [
    "# Take the first 20 values of the above generated array. This is a sample of x\n",
    "y = x[0:20]\n",
    "y"
   ]
  },
  {
   "cell_type": "code",
   "execution_count": 4,
   "metadata": {},
   "outputs": [
    {
     "data": {
      "text/plain": [
       "2.4318690829645724"
      ]
     },
     "execution_count": 4,
     "metadata": {},
     "output_type": "execute_result"
    }
   ],
   "source": [
    "# Calculate STDEV.S of a sample of the population of x\n",
    "b = np.sqrt(np.sum((y - np.mean(y))**2)/(len(y)-1))\n",
    "b"
   ]
  },
  {
   "cell_type": "code",
   "execution_count": 5,
   "metadata": {},
   "outputs": [
    {
     "data": {
      "text/plain": [
       "2.3702927825154854"
      ]
     },
     "execution_count": 5,
     "metadata": {},
     "output_type": "execute_result"
    }
   ],
   "source": [
    "# Calculate STDEV.P of a sample of the population of x\n",
    "c = np.sqrt(np.sum((y - np.mean(y))**2)/(len(y)))\n",
    "c"
   ]
  },
  {
   "cell_type": "code",
   "execution_count": 6,
   "metadata": {},
   "outputs": [],
   "source": [
    "# Calculate the accuracy of STDEV.S on the sample with STDEV.P of the entire population\n",
    "s = abs(a - b)"
   ]
  },
  {
   "cell_type": "code",
   "execution_count": 7,
   "metadata": {},
   "outputs": [],
   "source": [
    "# Calculate the accuracy of STDEV.p on the sample with STDEV.P of the entire population\n",
    "p = abs(a - c)"
   ]
  },
  {
   "cell_type": "code",
   "execution_count": 8,
   "metadata": {},
   "outputs": [
    {
     "name": "stdout",
     "output_type": "stream",
     "text": [
      "False\n"
     ]
    }
   ],
   "source": [
    "# If s is less than p, then STDEV.S is more accurate estimation of overall stdev of population the STDEV.P \n",
    "print(s < p)"
   ]
  },
  {
   "cell_type": "code",
   "execution_count": 9,
   "metadata": {},
   "outputs": [
    {
     "name": "stdout",
     "output_type": "stream",
     "text": [
      "0.0468564951608621\n",
      "0.09753569393298966\n",
      "Theory is proven\n"
     ]
    }
   ],
   "source": [
    "# Run the above 100 times\n",
    "for i in range(1):\n",
    "    x = np.random.normal(10, 2, 100)\n",
    "    a = np.sqrt(np.sum((x - np.mean(x))**2)/(len(x)))\n",
    "    y = x[0:20]\n",
    "    b = np.sqrt(np.sum((y - np.mean(y))**2)/(len(y)-1))\n",
    "    c = np.sqrt(np.sum((y - np.mean(y))**2)/(len(y)))\n",
    "    s = abs(a - b)\n",
    "    print(s)\n",
    "    p = abs(a - c)\n",
    "    print(p)\n",
    "    if s >= p:\n",
    "        print(\"Theory is disproven\")\n",
    "        break\n",
    "print(\"Theory is proven\")  "
   ]
  },
  {
   "cell_type": "code",
   "execution_count": null,
   "metadata": {},
   "outputs": [],
   "source": []
  }
 ],
 "metadata": {
  "kernelspec": {
   "display_name": "Python 3",
   "language": "python",
   "name": "python3"
  },
  "language_info": {
   "codemirror_mode": {
    "name": "ipython",
    "version": 3
   },
   "file_extension": ".py",
   "mimetype": "text/x-python",
   "name": "python",
   "nbconvert_exporter": "python",
   "pygments_lexer": "ipython3",
   "version": "3.8.3"
  }
 },
 "nbformat": 4,
 "nbformat_minor": 4
}

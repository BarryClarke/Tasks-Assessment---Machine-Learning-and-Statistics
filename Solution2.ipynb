{
 "cells": [
  {
   "cell_type": "markdown",
   "metadata": {},
   "source": [
    "### Task 2. November 2nd, 2020: \n",
    "The purpose of this task is to use scipy-stats to verify a result for the chi-squared value on a set of data. In addition to this, we are asked to calculate the associated p value."
   ]
  },
  {
   "cell_type": "markdown",
   "metadata": {},
   "source": [
    "### Solution\n",
    "### Explanation of chi-squared test\n",
    "\n",
    "The Chi-squared test for independence is a statistical hypothesis test. It is used to analyse whether two categorical variables are independent. Pearson's chi-squared test is used to determine whether there is a statistically significant difference between the expected frequencies and the observed frequencies in one or more categories of a contingency table.[1] To best explain this, consider the example given in the above referenced link:\\\n",
    "Suppose there is a city of 1,000,000 residents with four neighborhoods: A, B, C, and D. A random sample of 650 residents of the city is taken and their occupation is recorded as \"white collar\", \"blue collar\", or \"no collar\".\n",
    "\n",
    "||A|B|C|D|Total|\n",
    "|-|-|-|-|-|-|\n",
    "|White collar|90|60|104|95|349|\n",
    "|Blue collar|30|50|51|20|151|\n",
    "|No collar|30|40|45|35|150|\n",
    "|----------------|--|--|---|--|---|\n",
    "|Total|150|150|200|150|650|\n",
    "\n",
    "The null hypothesis is that each person's neighborhood of residence is independent of the person's occupational classification. Assuming the null hypothesis, the chi-squared test takes the cumulative totals of categories (number of people is each category, and overall totals). From these totals, it calculates expected frequencies within each category, based on the null hypothesis. Finally it compares these expected frequencies with the observed frequencies for each observed frequency.\n",
    "\n",
    "$$ x = \\frac{(expected - observed)^2}{expected} $$\n",
    "\n",
    "The chi-squared statistic is the sum of all x. \n",
    "\n",
    "So, for the above data, the expected frequency of \"white collar\" in Neighbourhood A would be:\n",
    "\n",
    "$$ 150\\times\\frac{349}{650} \\approx80.54 $$\n",
    "\n",
    "The observed frequency of \"white collar\" in Neighbourhood A is 90\n",
    "\n",
    "Using these values, we calculate x to be:\n",
    "\n",
    "$$ \\frac{(80.54 - 90)^2}{80.54} \\approx 1.1 $$\n",
    "\n",
    "The chi-squared statistic is calculated by suming the values obtained for x for all observed values in the table. Analysing the result, the lower the value calculated for this statistic, the closer the data is to the null hypothesis. If the test statistic is improbably large according to that chi-squared distribution, then one rejects the null hypothesis of independence."
   ]
  },
  {
   "cell_type": "markdown",
   "metadata": {},
   "source": [
    "### Using python to calculate chi-squared statistic and associated p value"
   ]
  },
  {
   "cell_type": "code",
   "execution_count": 1,
   "metadata": {},
   "outputs": [],
   "source": [
    "# Libraries required for this solution\n",
    "import numpy as np # Efficient numeric arrays\n",
    "from scipy.stats import chi2_contingency # scipy-stats contains probability distributions and statistical functions"
   ]
  },
  {
   "cell_type": "markdown",
   "metadata": {},
   "source": [
    "Create a numpy array of observed data"
   ]
  },
  {
   "cell_type": "code",
   "execution_count": 2,
   "metadata": {},
   "outputs": [
    {
     "data": {
      "text/plain": [
       "array([[ 90,  60, 104,  95],\n",
       "       [ 30,  50,  51,  20],\n",
       "       [ 30,  40,  45,  35]])"
      ]
     },
     "execution_count": 2,
     "metadata": {},
     "output_type": "execute_result"
    }
   ],
   "source": [
    "obs = np.array([[90, 60, 104, 95], [30, 50, 51, 20], [30, 40, 45, 35]])\n",
    "obs"
   ]
  },
  {
   "cell_type": "markdown",
   "metadata": {},
   "source": [
    "Using chi2_contingency function in scipy-stats, calculate the chi-squared statistic and associated p value for the above data [2], [3]"
   ]
  },
  {
   "cell_type": "code",
   "execution_count": 3,
   "metadata": {},
   "outputs": [
    {
     "data": {
      "text/plain": [
       "(24.5712028585826,\n",
       " 0.0004098425861096696,\n",
       " 6,\n",
       " array([[ 80.53846154,  80.53846154, 107.38461538,  80.53846154],\n",
       "        [ 34.84615385,  34.84615385,  46.46153846,  34.84615385],\n",
       "        [ 34.61538462,  34.61538462,  46.15384615,  34.61538462]]))"
      ]
     },
     "execution_count": 3,
     "metadata": {},
     "output_type": "execute_result"
    }
   ],
   "source": [
    "chi2_contingency(obs)"
   ]
  },
  {
   "cell_type": "markdown",
   "metadata": {},
   "source": [
    "This confirms the chi-squared statistic for this data to be 24.5712028585826"
   ]
  },
  {
   "cell_type": "markdown",
   "metadata": {},
   "source": [
    "### Interpreting the results\n",
    "\n",
    "The test statistic for this data is 24.5712028585826 \\\n",
    "The p value is 0.0004098425861096696 \\\n",
    "The degrees of freedom is 6\n",
    "\n",
    "As stated in the explanation above,the lower the value calculated for this statistic, the closer the data is to the null hypothesis. If the test statistic is improbably large according to that chi-squared distribution, then one rejects the null hypothesis of independence. In this case, with a test statistic of 24, one may be unsure whether to accept/reject the null hypothesis.\n",
    "\n",
    "Another means of confirming the null hypothesis is the p value. The p value is the probability of observing a sample statistic as extreme as the test statistic. [4] In this case, assuming the null hypothesis  that each person's neighborhood of residence is independent of the person's occupational classification, there is a 0.04% probability of getting a chi-squared statistic of > 24.57. This implies that the null hypothesis would be rejected on this data"
   ]
  },
  {
   "cell_type": "markdown",
   "metadata": {},
   "source": [
    "[1] https://en.wikipedia.org/wiki/Chi-squared_test \\\n",
    "[2] https://docs.scipy.org/doc/scipy/reference/generated/scipy.stats.chi2_contingency.html \\\n",
    "[3] https://medium.com/@nhan.tran/the-chi-square-statistic-p3-programming-with-python-87eb079f36af \\\n",
    "[4] https://stattrek.com/chi-square-test/independence.aspx#:~:text=The%20P%2Dvalue%20is%20the%20probability%20that%20a%20chi%2Dsquare,Interpret%20results."
   ]
  }
 ],
 "metadata": {
  "kernelspec": {
   "display_name": "Python 3",
   "language": "python",
   "name": "python3"
  },
  "language_info": {
   "codemirror_mode": {
    "name": "ipython",
    "version": 3
   },
   "file_extension": ".py",
   "mimetype": "text/x-python",
   "name": "python",
   "nbconvert_exporter": "python",
   "pygments_lexer": "ipython3",
   "version": "3.8.3"
  }
 },
 "nbformat": 4,
 "nbformat_minor": 4
}
